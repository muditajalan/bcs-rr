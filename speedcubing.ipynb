{
  "nbformat": 4,
  "nbformat_minor": 0,
  "metadata": {
    "colab": {
      "provenance": [],
      "authorship_tag": "ABX9TyOo0BSrguXmVuNQY+xhcPZU",
      "include_colab_link": true
    },
    "kernelspec": {
      "name": "python3",
      "display_name": "Python 3"
    },
    "language_info": {
      "name": "python"
    }
  },
  "cells": [
    {
      "cell_type": "markdown",
      "metadata": {
        "id": "view-in-github",
        "colab_type": "text"
      },
      "source": [
        "<a href=\"https://colab.research.google.com/github/muditajalan/bcs-rr/blob/main/speedcubing.ipynb\" target=\"_parent\"><img src=\"https://colab.research.google.com/assets/colab-badge.svg\" alt=\"Open In Colab\"/></a>"
      ]
    },
    {
      "cell_type": "code",
      "execution_count": null,
      "metadata": {
        "id": "A4rWKLr94lwq"
      },
      "outputs": [],
      "source": []
    },
    {
      "cell_type": "markdown",
      "source": [
        "task 1 : decode moves"
      ],
      "metadata": {
        "id": "EWR3fhJB4suK"
      }
    },
    {
      "cell_type": "code",
      "source": [
        "def decode_moves(s):\n",
        "  l=s.split()\n",
        "  print(l)\n",
        "#s= \"R U R' U'\"\n",
        "#decode_moves(s)"
      ],
      "metadata": {
        "colab": {
          "base_uri": "https://localhost:8080/"
        },
        "id": "ocDsoydo49td",
        "outputId": "35e38507-d7ee-4945-9bb0-48ae585252d9"
      },
      "execution_count": null,
      "outputs": [
        {
          "output_type": "stream",
          "name": "stdout",
          "text": [
            "['R', 'U', \"R'\", \"U'\"]\n"
          ]
        }
      ]
    },
    {
      "cell_type": "markdown",
      "source": [
        "task 2 Face Representation\n"
      ],
      "metadata": {
        "id": "knd7bIwJ5163"
      }
    },
    {
      "cell_type": "code",
      "source": [
        "def is_valid_face(strlist):\n",
        "  flat_list = sum(strlist, []) #give a list with all list merged\n",
        "  return (x == flat_list[0] for x in flat_list)\n",
        "def count_colors(strlist):\n",
        "  flat_list = sum(strlist, []) #give a list with all list merged\n",
        "  dic={'green': 0, 'white': 0, 'red': 0, 'yellow': 0, 'blue': 0, 'orange': 0}\n",
        "  for x in flat_list:\n",
        "    dic[x]+=1\n",
        "  return dic\n",
        "def rotate_face(face, direction='CW'):\n",
        "    # Transpose the matrix\n",
        "    transposed = [[face[j][i] for j in range(len(face))] for i in range(len(face[0]))]\n",
        "\n",
        "    if direction == 'CW':\n",
        "        # Reverse each row (standard CW logic)\n",
        "        return [row[::-1] for row in transposed]\n",
        "    elif direction == 'CCW':\n",
        "        # Reverse the order of rows (this is what CCW needs)\n",
        "        return transposed[::-1]\n",
        "    else:\n",
        "        raise ValueError(\"Direction must be 'CW' or 'CCW'\")\n",
        "\n",
        "\n",
        "\n"
      ],
      "metadata": {
        "id": "umXj07k76G1I"
      },
      "execution_count": null,
      "outputs": []
    },
    {
      "cell_type": "markdown",
      "source": [
        "task 3 : Cube Net Display"
      ],
      "metadata": {
        "id": "IeWiMteIQwkZ"
      }
    },
    {
      "cell_type": "code",
      "source": [
        "def print_cube(cube):\n",
        "    def format_face(face):\n",
        "        return [' '.join(row) for row in face]\n",
        "\n",
        "    # Get formatted strings for each face\n",
        "    U = format_face(cube['U'])\n",
        "    D = format_face(cube['D'])\n",
        "    F = format_face(cube['F'])\n",
        "    B = format_face(cube['B'])\n",
        "    L = format_face(cube['L'])\n",
        "    R = format_face(cube['R'])\n",
        "\n",
        "    # Print layout:\n",
        "    print(\"\\n\".join([\"      \" + row for row in U]))  # U face (centered up)\n",
        "\n",
        "    # Middle 4 faces: L F R B\n",
        "    for l, f, r, b in zip(L, F, R, B):\n",
        "        print(f\"{l}   {f}   {r}   {b}\")\n",
        "\n",
        "    print(\"\\n\".join([\"      \" + row for row in D]))  # D face (centered down)\n",
        "\n",
        "# Example usage:\n",
        "print_cube({\n",
        "    'U': [['W']*3]*3,\n",
        "    'D': [['Y']*3]*3,\n",
        "    'F': [['G']*3]*3,\n",
        "    'B': [['B']*3]*3,\n",
        "    'L': [['O']*3]*3,\n",
        "    'R': [['R']*3]*3\n",
        "})\n"
      ],
      "metadata": {
        "id": "PYjed1SJRfip"
      },
      "execution_count": null,
      "outputs": []
    }
  ]
}